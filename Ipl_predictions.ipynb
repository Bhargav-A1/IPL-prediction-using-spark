{
  "cells": [
    {
      "cell_type": "markdown",
      "metadata": {
        "id": "Lx9-Fre4FMda"
      },
      "source": [
        "\n"
      ]
    },
    {
      "cell_type": "markdown",
      "metadata": {
        "id": "GdMZR-9QTwG3"
      },
      "source": [
        "\n",
        "# **Initiate and Configure Spark**"
      ]
    },
    {
      "cell_type": "code",
      "execution_count": 1,
      "metadata": {
        "id": "Q0Z5VD1n_IK1",
        "colab": {
          "base_uri": "https://localhost:8080/"
        },
        "outputId": "8d8b201d-c2cf-4684-f2b3-8f5b75955505"
      },
      "outputs": [
        {
          "output_type": "stream",
          "name": "stdout",
          "text": [
            "Requirement already satisfied: pyspark in /usr/local/lib/python3.11/dist-packages (3.5.1)\n",
            "Requirement already satisfied: py4j==0.10.9.7 in /usr/local/lib/python3.11/dist-packages (from pyspark) (0.10.9.7)\n",
            "Requirement already satisfied: xgboost in /usr/local/lib/python3.11/dist-packages (2.1.4)\n",
            "Requirement already satisfied: numpy in /usr/local/lib/python3.11/dist-packages (from xgboost) (2.0.2)\n",
            "Requirement already satisfied: nvidia-nccl-cu12 in /usr/local/lib/python3.11/dist-packages (from xgboost) (2.21.5)\n",
            "Requirement already satisfied: scipy in /usr/local/lib/python3.11/dist-packages (from xgboost) (1.15.3)\n"
          ]
        }
      ],
      "source": [
        "!pip3 install pyspark\n",
        "!pip3 install xgboost"
      ]
    },
    {
      "cell_type": "code",
      "execution_count": 2,
      "metadata": {
        "id": "_z0p88Xtw_3-",
        "collapsed": true,
        "colab": {
          "base_uri": "https://localhost:8080/",
          "height": 219
        },
        "outputId": "65ed1591-9b1c-4eed-a3fc-092b27a748ad"
      },
      "outputs": [
        {
          "output_type": "execute_result",
          "data": {
            "text/plain": [
              "<pyspark.sql.session.SparkSession at 0x7e4f09591b50>"
            ],
            "text/html": [
              "\n",
              "            <div>\n",
              "                <p><b>SparkSession - in-memory</b></p>\n",
              "                \n",
              "        <div>\n",
              "            <p><b>SparkContext</b></p>\n",
              "\n",
              "            <p><a href=\"http://21aab22440b4:4040\">Spark UI</a></p>\n",
              "\n",
              "            <dl>\n",
              "              <dt>Version</dt>\n",
              "                <dd><code>v3.5.1</code></dd>\n",
              "              <dt>Master</dt>\n",
              "                <dd><code>local[*]</code></dd>\n",
              "              <dt>AppName</dt>\n",
              "                <dd><code>IPL Prediction_spark</code></dd>\n",
              "            </dl>\n",
              "        </div>\n",
              "        \n",
              "            </div>\n",
              "        "
            ]
          },
          "metadata": {},
          "execution_count": 2
        }
      ],
      "source": [
        "# Launch Session\n",
        "from pyspark.sql import SparkSession\n",
        "from pyspark.sql import SparkSession\n",
        "from pyspark.ml.feature import VectorAssembler\n",
        "from xgboost.spark import SparkXGBRegressor\n",
        "from pyspark.sql import SparkSession\n",
        "from pyspark.sql.functions import col, sum, first, when, lit, avg, count, lag, lead, max as spark_max, rand\n",
        "from pyspark.sql import functions as F\n",
        "from pyspark.sql.window import Window\n",
        "\n",
        "spark = SparkSession.builder \\\n",
        "                    .appName(\"IPL Prediction_spark\") \\\n",
        "                    .master(\"local[*]\") \\\n",
        "                    .config(\"spark.executor.memory\", \"4g\") \\\n",
        "                    .config(\"spark.driver.memory\", \"2g\") \\\n",
        "                    .config(\"spark.executor.cores\", \"2\") \\\n",
        "                    .config(\"spark.sql.inMemoryColumnarStorage.compressed\", \"true\") \\\n",
        "                    .getOrCreate()\n",
        "\n",
        "spark\n"
      ]
    },
    {
      "cell_type": "markdown",
      "metadata": {
        "id": "wHft1Jht1Qxl"
      },
      "source": [
        "## **Data Loading and Preprocessing**\n"
      ]
    },
    {
      "cell_type": "markdown",
      "metadata": {
        "id": "J3oDHFQeMK4L"
      },
      "source": [
        "Data Link : https://www.kaggle.com/datasets/ramjidoolla/ipl-data-set"
      ]
    },
    {
      "cell_type": "code",
      "execution_count": 3,
      "metadata": {
        "id": "OcZfiIcq1Qxn",
        "colab": {
          "base_uri": "https://localhost:8080/"
        },
        "outputId": "154dc754-e26b-4eb3-ad3d-6c75f953763a"
      },
      "outputs": [
        {
          "output_type": "stream",
          "name": "stdout",
          "text": [
            "Amount of Info: 756\n",
            "Divisions of Info 1\n",
            "Amount of Info: 179078\n",
            "Divisions of Info: 2\n"
          ]
        }
      ],
      "source": [
        "\n",
        "# Both students go with same datasets\n",
        "# Access matches Data\n",
        "matches = spark.read.csv(\"/content/matches.csv\", header=True,\n",
        "                         inferSchema=True)\n",
        "print(\"Amount of Info:\",matches.count())\n",
        "# This method transfors matches DF into an rdd(Resilient Disributed Dataset),That is a lower-level spark simplicication\n",
        "print(\"Divisions of Info\",matches.rdd.getNumPartitions())\n",
        "\n",
        "\n",
        "# Acess the deliveries Data\n",
        "deliveries = spark.read.csv(\"/content/deliveries.csv\", header=True,\n",
        "                            inferSchema=True)\n",
        "print(\"Amount of Info:\",deliveries.count())\n",
        "\n",
        "# This method transfors the deliveries DF into an rdd(Resilient Disributed Dataset),That is a lower-level spark simplicication\n",
        "print(\"Divisions of Info:\",deliveries.rdd.getNumPartitions())"
      ]
    },
    {
      "cell_type": "code",
      "source": [
        "# Display some rows\n",
        "matches.show(5)"
      ],
      "metadata": {
        "colab": {
          "base_uri": "https://localhost:8080/"
        },
        "id": "dcpvml63lTCu",
        "outputId": "50dc2af1-e66a-44b5-dd69-7dd31eb0fc49"
      },
      "execution_count": 4,
      "outputs": [
        {
          "output_type": "stream",
          "name": "stdout",
          "text": [
            "+---+--------+---------+----------+--------------------+--------------------+--------------------+-------------+------+----------+--------------------+-----------+--------------+---------------+--------------------+--------------+-------------+-------+\n",
            "| id|  Season|     city|      date|               team1|               team2|         toss_winner|toss_decision|result|dl_applied|              winner|win_by_runs|win_by_wickets|player_of_match|               venue|       umpire1|      umpire2|umpire3|\n",
            "+---+--------+---------+----------+--------------------+--------------------+--------------------+-------------+------+----------+--------------------+-----------+--------------+---------------+--------------------+--------------+-------------+-------+\n",
            "|  1|IPL-2017|Hyderabad|05-04-2017| Sunrisers Hyderabad|Royal Challengers...|Royal Challengers...|        field|normal|         0| Sunrisers Hyderabad|         35|             0|   Yuvraj Singh|Rajiv Gandhi Inte...|   AY Dandekar|     NJ Llong|   NULL|\n",
            "|  2|IPL-2017|     Pune|06-04-2017|      Mumbai Indians|Rising Pune Super...|Rising Pune Super...|        field|normal|         0|Rising Pune Super...|          0|             7|      SPD Smith|Maharashtra Crick...|A Nand Kishore|       S Ravi|   NULL|\n",
            "|  3|IPL-2017|   Rajkot|07-04-2017|       Gujarat Lions|Kolkata Knight Ri...|Kolkata Knight Ri...|        field|normal|         0|Kolkata Knight Ri...|          0|            10|        CA Lynn|Saurashtra Cricke...|   Nitin Menon|    CK Nandan|   NULL|\n",
            "|  4|IPL-2017|   Indore|08-04-2017|Rising Pune Super...|     Kings XI Punjab|     Kings XI Punjab|        field|normal|         0|     Kings XI Punjab|          0|             6|     GJ Maxwell|Holkar Cricket St...|  AK Chaudhary|C Shamshuddin|   NULL|\n",
            "|  5|IPL-2017|Bangalore|08-04-2017|Royal Challengers...|    Delhi Daredevils|Royal Challengers...|          bat|normal|         0|Royal Challengers...|         15|             0|      KM Jadhav|M Chinnaswamy Sta...|          NULL|         NULL|   NULL|\n",
            "+---+--------+---------+----------+--------------------+--------------------+--------------------+-------------+------+----------+--------------------+-----------+--------------+---------------+--------------------+--------------+-------------+-------+\n",
            "only showing top 5 rows\n",
            "\n"
          ]
        }
      ]
    },
    {
      "cell_type": "code",
      "source": [
        "# Display some rows\n",
        "deliveries.show(5)"
      ],
      "metadata": {
        "colab": {
          "base_uri": "https://localhost:8080/"
        },
        "id": "gnzLCEPwlORT",
        "outputId": "585907f6-a92d-475b-f3db-a3127767932a"
      },
      "execution_count": 5,
      "outputs": [
        {
          "output_type": "stream",
          "name": "stdout",
          "text": [
            "+--------+------+-------------------+--------------------+----+----+---------+-----------+--------+-------------+---------+--------+-----------+-----------+------------+------------+----------+----------+----------------+--------------+-------+\n",
            "|match_id|inning|       batting_team|        bowling_team|over|ball|  batsman|non_striker|  bowler|is_super_over|wide_runs|bye_runs|legbye_runs|noball_runs|penalty_runs|batsman_runs|extra_runs|total_runs|player_dismissed|dismissal_kind|fielder|\n",
            "+--------+------+-------------------+--------------------+----+----+---------+-----------+--------+-------------+---------+--------+-----------+-----------+------------+------------+----------+----------+----------------+--------------+-------+\n",
            "|       1|     1|Sunrisers Hyderabad|Royal Challengers...|   1|   1|DA Warner|   S Dhawan|TS Mills|            0|        0|       0|          0|          0|           0|           0|         0|         0|            NULL|          NULL|   NULL|\n",
            "|       1|     1|Sunrisers Hyderabad|Royal Challengers...|   1|   2|DA Warner|   S Dhawan|TS Mills|            0|        0|       0|          0|          0|           0|           0|         0|         0|            NULL|          NULL|   NULL|\n",
            "|       1|     1|Sunrisers Hyderabad|Royal Challengers...|   1|   3|DA Warner|   S Dhawan|TS Mills|            0|        0|       0|          0|          0|           0|           4|         0|         4|            NULL|          NULL|   NULL|\n",
            "|       1|     1|Sunrisers Hyderabad|Royal Challengers...|   1|   4|DA Warner|   S Dhawan|TS Mills|            0|        0|       0|          0|          0|           0|           0|         0|         0|            NULL|          NULL|   NULL|\n",
            "|       1|     1|Sunrisers Hyderabad|Royal Challengers...|   1|   5|DA Warner|   S Dhawan|TS Mills|            0|        2|       0|          0|          0|           0|           0|         2|         2|            NULL|          NULL|   NULL|\n",
            "+--------+------+-------------------+--------------------+----+----+---------+-----------+--------+-------------+---------+--------+-----------+-----------+------------+------------+----------+----------+----------------+--------------+-------+\n",
            "only showing top 5 rows\n",
            "\n"
          ]
        }
      ]
    },
    {
      "cell_type": "code",
      "execution_count": 6,
      "metadata": {
        "colab": {
          "base_uri": "https://localhost:8080/"
        },
        "id": "2kjYKdyF1mga",
        "outputId": "8cf2cb5e-0720-458f-a044-e84434c40a98"
      },
      "outputs": [
        {
          "output_type": "stream",
          "name": "stdout",
          "text": [
            "Deliveries Columns: ['match_id', 'inning', 'batting_team', 'bowling_team', 'over', 'ball', 'batsman', 'non_striker', 'bowler', 'is_super_over', 'wide_runs', 'bye_runs', 'legbye_runs', 'noball_runs', 'penalty_runs', 'batsman_runs', 'extra_runs', 'total_runs', 'player_dismissed', 'dismissal_kind', 'fielder']\n",
            "Matches Columns: ['id', 'Season', 'city', 'date', 'team1', 'team2', 'toss_winner', 'toss_decision', 'result', 'dl_applied', 'winner', 'win_by_runs', 'win_by_wickets', 'player_of_match', 'venue', 'umpire1', 'umpire2', 'umpire3']\n"
          ]
        }
      ],
      "source": [
        "# Visualize the Headers of the datasets\n",
        "print(\"Deliveries Columns:\", deliveries.columns)\n",
        "print(\"Matches Columns:\", matches.columns)"
      ]
    },
    {
      "cell_type": "code",
      "execution_count": 7,
      "metadata": {
        "colab": {
          "base_uri": "https://localhost:8080/"
        },
        "id": "BEREER_M2GAZ",
        "outputId": "575759fc-cd08-44e3-9990-eb2f60aeb409"
      },
      "outputs": [
        {
          "output_type": "stream",
          "name": "stdout",
          "text": [
            "No.of rows in the Joined Dataset:  179078\n",
            "Count of the Joined Dataset 26\n"
          ]
        }
      ],
      "source": [
        "# paired deliveries with matches dataset\n",
        "paired_data = deliveries.join(\n",
        "    matches,\n",
        "    deliveries.match_id == matches.id,\n",
        "    \"left\"  # Using left join can maintain all rows from deliveries\n",
        ")\n",
        "\n",
        "# Select all columns from deliveries plus needed cols from matches\n",
        "# Here we can see the selected cols from matches\n",
        "paired_deliveries = paired_data.select(\n",
        "    \"match_id\",\"inning\",\"batting_team\",\"bowling_team\",\"over\",\"ball\",\"batsman\",\n",
        "    \"non_striker\",\"bowler\",\"is_super_over\",\"wide_runs\",\"bye_runs\",\"legbye_runs\",\n",
        "    \"noball_runs\",\"penalty_runs\",\"batsman_runs\",\"extra_runs\",\"total_runs\",\"player_dismissed\",\n",
        "    \"dismissal_kind\",\"fielder\",\n",
        "\n",
        "# Rest of Other Col from matches dataset\n",
        "    matches.Season,\n",
        "    matches.city,\n",
        "    matches.venue,\n",
        "    matches.winner,\n",
        "    matches.toss_winner\n",
        ")\n",
        "\n",
        "# Check the Data from linked dataset\n",
        "print(\"No.of rows in the Joined Dataset: \",paired_deliveries.count())\n",
        "print(\"Count of the Joined Dataset\",len(paired_deliveries.columns))"
      ]
    },
    {
      "cell_type": "code",
      "execution_count": 8,
      "metadata": {
        "id": "Cgvju0eC2UCo"
      },
      "outputs": [],
      "source": [
        "# Declared the data for the further use in the code\n",
        "xgb_regressor_data = paired_data"
      ]
    },
    {
      "cell_type": "code",
      "source": [
        "# Remove the Col that having huge number of missing values\n",
        "xgb_regressor_data = xgb_regressor_data.drop(\"player_dismissed\")\n",
        "xgb_regressor_data = xgb_regressor_data.drop(\"dismissal_kind\")\n",
        "xgb_regressor_data = xgb_regressor_data.drop(\"fielder\")\n",
        "xgb_regressor_data = xgb_regressor_data.drop(\"umpire3\")"
      ],
      "metadata": {
        "id": "NyFRIlWdlTXM"
      },
      "execution_count": 9,
      "outputs": []
    },
    {
      "cell_type": "code",
      "execution_count": 11,
      "metadata": {
        "colab": {
          "base_uri": "https://localhost:8080/"
        },
        "id": "oED0jazO2Y0x",
        "outputId": "d24edec1-d9a2-436f-e3fe-9034a0759d83"
      },
      "outputs": [
        {
          "output_type": "stream",
          "name": "stdout",
          "text": [
            "+--------+------+------------+------------+----+----+-------+-----------+------+-------------+---------+--------+-----------+-----------+------------+------------+----------+----------+---+------+----+----+-----+-----+-----------+-------------+------+----------+------+-----------+--------------+---------------+-----+-------+-------+\n",
            "|match_id|inning|batting_team|bowling_team|over|ball|batsman|non_striker|bowler|is_super_over|wide_runs|bye_runs|legbye_runs|noball_runs|penalty_runs|batsman_runs|extra_runs|total_runs| id|Season|city|date|team1|team2|toss_winner|toss_decision|result|dl_applied|winner|win_by_runs|win_by_wickets|player_of_match|venue|umpire1|umpire2|\n",
            "+--------+------+------------+------------+----+----+-------+-----------+------+-------------+---------+--------+-----------+-----------+------------+------------+----------+----------+---+------+----+----+-----+-----+-----------+-------------+------+----------+------+-----------+--------------+---------------+-----+-------+-------+\n",
            "|       0|     0|           0|           0|   0|   0|      0|          0|     0|            0|        0|       0|          0|          0|           0|           0|         0|         0|  0|     0|1700|   0|    0|    0|          0|            0|     0|         0|   372|          0|             0|            372|    0|    500|    500|\n",
            "+--------+------+------------+------------+----+----+-------+-----------+------+-------------+---------+--------+-----------+-----------+------------+------------+----------+----------+---+------+----+----+-----+-----+-----------+-------------+------+----------+------+-----------+--------------+---------------+-----+-------+-------+\n",
            "\n"
          ]
        }
      ],
      "source": [
        "# Searching for the missing values before model Training\n",
        "from pyspark.sql.functions import col, sum\n",
        "\n",
        "# Choosing Col for measuring the null values\n",
        "missing_values = xgb_regressor_data.select([sum(col(c).isNull().cast(\"int\")).alias(c) for c in xgb_regressor_data.columns])\n",
        "\n",
        "# Displaying Null values\n",
        "missing_values.show()"
      ]
    },
    {
      "cell_type": "code",
      "execution_count": 12,
      "metadata": {
        "id": "eLYZTbEy2jqJ",
        "colab": {
          "base_uri": "https://localhost:8080/"
        },
        "outputId": "e06e004b-0f60-4914-e402-20245b834411"
      },
      "outputs": [
        {
          "output_type": "stream",
          "name": "stdout",
          "text": [
            "root\n",
            " |-- match_id: integer (nullable = true)\n",
            " |-- inning: integer (nullable = true)\n",
            " |-- batting_team: string (nullable = true)\n",
            " |-- bowling_team: string (nullable = true)\n",
            " |-- over: integer (nullable = true)\n",
            " |-- ball: integer (nullable = true)\n",
            " |-- batsman: string (nullable = true)\n",
            " |-- non_striker: string (nullable = true)\n",
            " |-- bowler: string (nullable = true)\n",
            " |-- is_super_over: integer (nullable = true)\n",
            " |-- wide_runs: integer (nullable = true)\n",
            " |-- bye_runs: integer (nullable = true)\n",
            " |-- legbye_runs: integer (nullable = true)\n",
            " |-- noball_runs: integer (nullable = true)\n",
            " |-- penalty_runs: integer (nullable = true)\n",
            " |-- batsman_runs: integer (nullable = true)\n",
            " |-- extra_runs: integer (nullable = true)\n",
            " |-- total_runs: integer (nullable = true)\n",
            " |-- id: integer (nullable = true)\n",
            " |-- Season: string (nullable = true)\n",
            " |-- city: string (nullable = true)\n",
            " |-- date: string (nullable = true)\n",
            " |-- team1: string (nullable = true)\n",
            " |-- team2: string (nullable = true)\n",
            " |-- toss_winner: string (nullable = true)\n",
            " |-- toss_decision: string (nullable = true)\n",
            " |-- result: string (nullable = true)\n",
            " |-- dl_applied: integer (nullable = true)\n",
            " |-- winner: string (nullable = true)\n",
            " |-- win_by_runs: integer (nullable = true)\n",
            " |-- win_by_wickets: integer (nullable = true)\n",
            " |-- player_of_match: string (nullable = true)\n",
            " |-- venue: string (nullable = true)\n",
            " |-- umpire1: string (nullable = true)\n",
            " |-- umpire2: string (nullable = true)\n",
            "\n"
          ]
        }
      ],
      "source": [
        "# Print the Schema of the linked Data\n",
        "xgb_regressor_data.printSchema()"
      ]
    },
    {
      "cell_type": "code",
      "execution_count": null,
      "metadata": {
        "collapsed": true,
        "id": "0u78LGnvMpIj"
      },
      "outputs": [],
      "source": [
        "# Convert columns to double for ML Adaptability\n",
        "from pyspark.sql.functions import col\n",
        "\n",
        "# Loop through each pass\n",
        "for column in xgb_regressor_data.columns:\n",
        "  xgb_regressor_data = xgb_regressor_data.withColumn(column, col(column).cast(\"double\")) # Casting Each Col\n",
        "\n",
        "# Displaying the 1st row after the Each casting\n",
        "  xgb_regressor_data.show(1)"
      ]
    },
    {
      "cell_type": "markdown",
      "metadata": {
        "id": "28b8KCJa28EF"
      },
      "source": [
        "  VECTOR ASSEMBLER"
      ]
    },
    {
      "cell_type": "code",
      "execution_count": 14,
      "metadata": {
        "id": "1I2lYFvp-VRW"
      },
      "outputs": [],
      "source": [
        "# A (VA) was used to make the multiple selected features into isolated Instance\n",
        "from pyspark.ml.feature import VectorAssembler\n",
        "assembler = VectorAssembler(inputCols = [\"match_id\",\"inning\", \"over\",\"ball\",\n",
        "                                         \"batsman_runs\", \"extra_runs\"],\n",
        "                            outputCol = \"features\")\n",
        "\n",
        "d_info = assembler.transform(deliveries)\n",
        "d_info = d_info.select(\"features\", \"total_runs\")\n"
      ]
    },
    {
      "cell_type": "code",
      "source": [
        "d_info.show(5, truncate = False)"
      ],
      "metadata": {
        "colab": {
          "base_uri": "https://localhost:8080/"
        },
        "id": "BXK_yNaL7dSw",
        "outputId": "572aea01-0d9c-4c18-9f62-76ce910d9bf4"
      },
      "execution_count": 15,
      "outputs": [
        {
          "output_type": "stream",
          "name": "stdout",
          "text": [
            "+-------------------------+----------+\n",
            "|features                 |total_runs|\n",
            "+-------------------------+----------+\n",
            "|[1.0,1.0,1.0,1.0,0.0,0.0]|0         |\n",
            "|[1.0,1.0,1.0,2.0,0.0,0.0]|0         |\n",
            "|[1.0,1.0,1.0,3.0,4.0,0.0]|4         |\n",
            "|[1.0,1.0,1.0,4.0,0.0,0.0]|0         |\n",
            "|[1.0,1.0,1.0,5.0,0.0,2.0]|2         |\n",
            "+-------------------------+----------+\n",
            "only showing top 5 rows\n",
            "\n"
          ]
        }
      ]
    },
    {
      "cell_type": "code",
      "source": [
        "# Function to count nulls for each column\n",
        "def count_nulls(df):\n",
        "    from pyspark.sql.functions import col, count, isnan, when\n",
        "\n",
        "    # Tally null and NaN items from every col\n",
        "    null_counts = []\n",
        "    total_rows = df.count()\n",
        "\n",
        "    for column in df.columns:\n",
        "        null_count = df.filter(\n",
        "            col(column).isNull() |\n",
        "            isnan(col(column)) |\n",
        "            (col(column) == \"\")\n",
        "        ).count()\n",
        "\n",
        "        no_val_per = (null_count / total_rows) * 100 if total_rows > 0 else 0\n",
        "        null_counts.append((column, null_count, no_val_per))\n",
        "\n",
        "    # Create a DataFrame with the results\n",
        "    null_df = spark.createDataFrame(\n",
        "        null_counts,\n",
        "        [\"Column\", \"Null Count\", \"Null Percentage\"]\n",
        "    )\n",
        "\n",
        "    return null_df.orderBy(\"Null Count\", ascending=False)\n",
        "\n",
        "# Check for nulls in the combined dataset\n",
        "null_analysis = count_nulls(paired_data)\n",
        "null_analysis.show(40, truncate=False)  # Show all columns"
      ],
      "metadata": {
        "id": "45hJ3L3v5O9t",
        "colab": {
          "base_uri": "https://localhost:8080/"
        },
        "outputId": "04e60717-2db1-408c-e6ca-8f9f98c40138"
      },
      "execution_count": 16,
      "outputs": [
        {
          "output_type": "stream",
          "name": "stdout",
          "text": [
            "+----------------+----------+-------------------+\n",
            "|Column          |Null Count|Null Percentage    |\n",
            "+----------------+----------+-------------------+\n",
            "|fielder         |172630    |96.3993343682641   |\n",
            "|player_dismissed|170244    |95.06695406470924  |\n",
            "|dismissal_kind  |170244    |95.06695406470924  |\n",
            "|umpire3         |150712    |84.15997498296831  |\n",
            "|city            |1700      |0.9493070058857035 |\n",
            "|umpire1         |500       |0.27920794290755985|\n",
            "|umpire2         |500       |0.27920794290755985|\n",
            "|winner          |372       |0.20773070952322453|\n",
            "|player_of_match |372       |0.20773070952322453|\n",
            "|match_id        |0         |0.0                |\n",
            "|id              |0         |0.0                |\n",
            "|inning          |0         |0.0                |\n",
            "|Season          |0         |0.0                |\n",
            "|batting_team    |0         |0.0                |\n",
            "|date            |0         |0.0                |\n",
            "|bowling_team    |0         |0.0                |\n",
            "|team1           |0         |0.0                |\n",
            "|over            |0         |0.0                |\n",
            "|team2           |0         |0.0                |\n",
            "|ball            |0         |0.0                |\n",
            "|toss_winner     |0         |0.0                |\n",
            "|batsman         |0         |0.0                |\n",
            "|toss_decision   |0         |0.0                |\n",
            "|non_striker     |0         |0.0                |\n",
            "|result          |0         |0.0                |\n",
            "|bowler          |0         |0.0                |\n",
            "|dl_applied      |0         |0.0                |\n",
            "|is_super_over   |0         |0.0                |\n",
            "|win_by_runs     |0         |0.0                |\n",
            "|wide_runs       |0         |0.0                |\n",
            "|win_by_wickets  |0         |0.0                |\n",
            "|bye_runs        |0         |0.0                |\n",
            "|venue           |0         |0.0                |\n",
            "|legbye_runs     |0         |0.0                |\n",
            "|noball_runs     |0         |0.0                |\n",
            "|penalty_runs    |0         |0.0                |\n",
            "|batsman_runs    |0         |0.0                |\n",
            "|extra_runs      |0         |0.0                |\n",
            "|total_runs      |0         |0.0                |\n",
            "+----------------+----------+-------------------+\n",
            "\n"
          ]
        }
      ]
    },
    {
      "cell_type": "markdown",
      "metadata": {
        "id": "IRGHM3rOsKvU"
      },
      "source": [
        "---\n",
        "# **Model Selection and Implementation**\n",
        "---\n"
      ]
    },
    {
      "cell_type": "code",
      "execution_count": 17,
      "metadata": {
        "colab": {
          "base_uri": "https://localhost:8080/"
        },
        "id": "Nq0l-3tuBh-w",
        "outputId": "642aab4d-b5d8-432c-8189-4c0d0c901aa2"
      },
      "outputs": [
        {
          "output_type": "stream",
          "name": "stdout",
          "text": [
            "+-------------------------+----------+\n",
            "|features                 |total_runs|\n",
            "+-------------------------+----------+\n",
            "|[1.0,1.0,1.0,1.0,0.0,0.0]|0         |\n",
            "|[1.0,1.0,1.0,2.0,0.0,0.0]|0         |\n",
            "|[1.0,1.0,1.0,3.0,4.0,0.0]|4         |\n",
            "|[1.0,1.0,1.0,5.0,0.0,2.0]|2         |\n",
            "|[1.0,1.0,1.0,6.0,0.0,0.0]|0         |\n",
            "+-------------------------+----------+\n",
            "only showing top 5 rows\n",
            "\n",
            "Count of the Trained Data: 125361\n",
            "Count of the Tested Data: 53717\n"
          ]
        }
      ],
      "source": [
        "# Divide content into Train & Test.\n",
        "# Here the Information was divided to 70% of the data used for training and 30% for searching.\n",
        "# Randomsplit was used to seperate the content randomly.\n",
        "trained_data, tested_data = d_info.randomSplit([0.7, 0.3], seed = 134)\n",
        "\n",
        "# Visualize the trained_data\n",
        "trained_data.show(5, truncate= False)\n",
        "\n",
        "# Visualize the count(Trained and Tested) content.\n",
        "print(\"Count of the Trained Data:\", trained_data.count())\n",
        "print(\"Count of the Tested Data:\", tested_data.count())"
      ]
    },
    {
      "cell_type": "code",
      "execution_count": null,
      "metadata": {
        "id": "6oAJuyTBsRO-"
      },
      "outputs": [],
      "source": [
        " #XGBoost Regressor\n",
        "# Import the Regressor from spark\n",
        "from xgboost.spark import SparkXGBRegressor\n",
        "\n",
        "# Define Features\n",
        "xgb_regressor = SparkXGBRegressor(\n",
        "    features_col=\"features\",      # Input Features\n",
        "    label_col=\"total_runs\"        # Target Column\n",
        ")\n",
        "\n",
        "#Training to xgb_model with the help of trained_data\n",
        "xgb_mod = xgb_regressor.fit(trained_data)\n",
        "\n",
        "# Using trained xgb model for the predictions\n",
        "xgb_pred = xgb_mod.transform(tested_data)\n"
      ]
    },
    {
      "cell_type": "code",
      "source": [
        "# showcase the predictions from the selected data(total_runs and prediction)\n",
        "xgb_pred.select(\"total_runs\", \"prediction\").show(10, truncate=False)"
      ],
      "metadata": {
        "colab": {
          "base_uri": "https://localhost:8080/"
        },
        "id": "1QpkSmqZWtkJ",
        "outputId": "3b1183ba-df91-43b4-cc93-0cd9470b3631"
      },
      "execution_count": 19,
      "outputs": [
        {
          "output_type": "stream",
          "name": "stdout",
          "text": [
            "+----------+--------------------+\n",
            "|total_runs|prediction          |\n",
            "+----------+--------------------+\n",
            "|0         |3.443599098318373E-6|\n",
            "|4         |3.9999966621398926  |\n",
            "|1         |0.9999969601631165  |\n",
            "|0         |3.443599098318373E-6|\n",
            "|0         |3.443599098318373E-6|\n",
            "|3         |3.0000038146972656  |\n",
            "|1         |1.0000003576278687  |\n",
            "|1         |1.0000003576278687  |\n",
            "|1         |1.0000003576278687  |\n",
            "|1         |1.0000003576278687  |\n",
            "+----------+--------------------+\n",
            "only showing top 10 rows\n",
            "\n"
          ]
        }
      ]
    },
    {
      "cell_type": "markdown",
      "metadata": {
        "id": "jBh-tqvEHmIa"
      },
      "source": [
        "---\n",
        "# **Model Parameter Tuning**\n",
        "---\n"
      ]
    },
    {
      "cell_type": "code",
      "execution_count": null,
      "metadata": {
        "collapsed": true,
        "id": "mhLRVi66Hmdo"
      },
      "outputs": [],
      "source": [
        "# Importing the packages of the ParamGridBuilder and CrossValidation for the Model Tuning\n",
        "from pyspark.ml.tuning import ParamGridBuilder, CrossValidator\n",
        "from pyspark.ml.evaluation import RegressionEvaluator\n",
        "# ParamGrid is used to allows the analysis the multiple mixtures of parameter to search the best achieving model\n",
        "param_grid = (ParamGridBuilder()\n",
        "      .addGrid(xgb_regressor.max_depth, [3, 5, 9]) # Max dept of a tree\n",
        "      .addGrid(xgb_regressor.learning_rate, [0.02, 0.6, 0.1]) # Step Size\n",
        "      .addGrid(xgb_regressor.n_estimators, [100, 150, 300]) # No.of Boosting Rounds\n",
        "      .addGrid(xgb_regressor.subsample, [0.5, 0.4, 0.8]) # Fraction of samples used for each boosting round\n",
        "      .addGrid(xgb_regressor.colsample_bytree, [0.3, 0.7, 0.9]) # Features used in each Tree\n",
        "      .build())\n",
        "\n",
        "# Evalutor\n",
        "evaluator = RegressionEvaluator(labelCol=\"total_runs\",\n",
        "                                predictionCol=\"prediction\",metricName=\"rmse\")\n",
        "\n",
        "# To avoiding the Overfitting and Tuning the Hyperparameters\n",
        "# Cross Validation\n",
        "cvalid = CrossValidator(\n",
        "      estimator=xgb_regressor,\n",
        "      estimatorParamMaps=param_grid,\n",
        "      evaluator=evaluator,\n",
        "      numFolds=3  # Validation using 3 data partitions\n",
        "  )\n",
        "\n",
        "# Traning model\n",
        "CVal_mod = cvalid.fit(trained_data)\n",
        "\n",
        "# Get xgb model\n",
        "xgb_mod = CVal_mod.bestModel"
      ]
    },
    {
      "cell_type": "code",
      "execution_count": 21,
      "metadata": {
        "colab": {
          "base_uri": "https://localhost:8080/"
        },
        "id": "GlQyke4Fig7S",
        "outputId": "84ffbf03-0f6b-4f11-c257-124e0b704e50"
      },
      "outputs": [
        {
          "output_type": "stream",
          "name": "stdout",
          "text": [
            "+--------------------+----------+--------------------+\n",
            "|            features|total_runs|          prediction|\n",
            "+--------------------+----------+--------------------+\n",
            "|[1.0,1.0,1.0,4.0,...|         0|1.947926830325741...|\n",
            "|[1.0,1.0,2.0,2.0,...|         4|   4.000034332275391|\n",
            "|[1.0,1.0,2.0,3.0,...|         1|   1.000022053718567|\n",
            "|[1.0,1.0,3.0,2.0,...|         0| 3.21356019412633E-5|\n",
            "|[1.0,1.0,3.0,3.0,...|         0|3.316983566037379E-5|\n",
            "|[1.0,1.0,3.0,4.0,...|         3|  3.0000808238983154|\n",
            "|[1.0,1.0,3.0,6.0,...|         1|  1.0000289678573608|\n",
            "|[1.0,1.0,4.0,2.0,...|         1|   1.000028133392334|\n",
            "|[1.0,1.0,5.0,1.0,...|         1|  1.0000073909759521|\n",
            "|[1.0,1.0,5.0,2.0,...|         1|  1.0000098943710327|\n",
            "+--------------------+----------+--------------------+\n",
            "only showing top 10 rows\n",
            "\n"
          ]
        }
      ],
      "source": [
        "# Model outputs after Tuning\n",
        "xgb_pred = xgb_mod.transform(tested_data)\n",
        "\n",
        "# Predictions of the selected features after the Model Tuning and show the predictions\n",
        "xgb_pred.select(\"total_runs\", \"prediction\")\n",
        "xgb_pred.show(10)"
      ]
    },
    {
      "cell_type": "code",
      "source": [
        "# Laaso\n",
        "from pyspark.ml.regression import LinearRegression\n",
        "\n",
        "# Define the Features for Lasso Reg\n",
        "ls_reg = LinearRegression(featuresCol = 'features',\n",
        "                      labelCol = 'total_runs',\n",
        "                      elasticNetParam = 1.0,\n",
        "                      regParam = 0.17)\n",
        "\n",
        "# Training the Lasso using the trained_data\n",
        "lsr_mod = ls_reg.fit(trained_data)\n",
        "\n",
        "# Using the model make the predictions\n",
        "lsr_pred = lsr_mod.transform(tested_data)\n",
        "\n",
        "# Ridge\n",
        "# Define the Features for Ridge Regression\n",
        "rd_reg = LinearRegression(featuresCol = 'features',labelCol = 'total_runs',\n",
        "                         predictionCol = 'prediction', elasticNetParam = 0.0, regParam = 0.15)\n",
        "rid_mod = rd_reg.fit(trained_data)\n",
        "rid_pred = rid_mod.transform(tested_data)"
      ],
      "metadata": {
        "id": "7uBeSdrq_gBf"
      },
      "execution_count": 22,
      "outputs": []
    },
    {
      "cell_type": "code",
      "source": [
        "# Visualize from Lasso Regression model\n",
        "lsr_pred.select(\"total_runs\", \"prediction\").show(10)"
      ],
      "metadata": {
        "colab": {
          "base_uri": "https://localhost:8080/"
        },
        "id": "w98rM3up_kBM",
        "outputId": "98479add-5852-4f97-e62d-ce67f5f8ff57"
      },
      "execution_count": 23,
      "outputs": [
        {
          "output_type": "stream",
          "name": "stdout",
          "text": [
            "+----------+-------------------+\n",
            "|total_runs|         prediction|\n",
            "+----------+-------------------+\n",
            "|         0|0.18662554749301596|\n",
            "|         4|  3.708414198846322|\n",
            "|         1| 0.6215678673087217|\n",
            "|         0|0.18662554749301596|\n",
            "|         0|0.18662554749301596|\n",
            "|         3| 2.8279670360079954|\n",
            "|         1| 1.0670727103313424|\n",
            "|         1| 1.0670727103313424|\n",
            "|         1| 1.0670727103313424|\n",
            "|         1| 1.0670727103313424|\n",
            "+----------+-------------------+\n",
            "only showing top 10 rows\n",
            "\n"
          ]
        }
      ]
    },
    {
      "cell_type": "code",
      "source": [
        "# Visualize the predictions from Ridge Regression model\n",
        "rid_pred.select(\"total_runs\",\"prediction\").show(10)"
      ],
      "metadata": {
        "colab": {
          "base_uri": "https://localhost:8080/"
        },
        "id": "n0mP9G69_nqk",
        "outputId": "43b24fdb-35df-482b-e8ec-61c724380914"
      },
      "execution_count": 24,
      "outputs": [
        {
          "output_type": "stream",
          "name": "stdout",
          "text": [
            "+----------+-------------------+\n",
            "|total_runs|         prediction|\n",
            "+----------+-------------------+\n",
            "|         0|0.10040234981290896|\n",
            "|         4| 3.7451322091578083|\n",
            "|         1| 0.9718312838669817|\n",
            "|         0|0.10317872265836195|\n",
            "|         0|0.10377189663448028|\n",
            "|         3|  2.837316205784317|\n",
            "|         1| 1.0165351302874082|\n",
            "|         1| 1.0161437947817797|\n",
            "|         1|  1.017531981204506|\n",
            "|         1| 1.0181251551806245|\n",
            "+----------+-------------------+\n",
            "only showing top 10 rows\n",
            "\n"
          ]
        }
      ]
    },
    {
      "cell_type": "markdown",
      "metadata": {
        "id": "Np9gJPEIHwbG"
      },
      "source": [
        "---\n",
        "# **Task 4 - Model Evaluation and Accuracy Calculation (20 marks)**\n",
        "---"
      ]
    },
    {
      "cell_type": "code",
      "execution_count": 25,
      "metadata": {
        "id": "FCVAx1VsHws-"
      },
      "outputs": [],
      "source": [
        "##1st student name: Bhargav Mouli G\n",
        "# Metrics for the Different Regression Models\n",
        "from pyspark.ml.evaluation import RegressionEvaluator\n",
        "\n",
        "# Evalute the mse\n",
        "evaluation_mse = RegressionEvaluator(labelCol = 'total_runs',\n",
        "                                    predictionCol = 'prediction', metricName = 'mse')\n",
        "# Compute mse\n",
        "xgb_mse = evaluation_mse.evaluate(xgb_pred)\n",
        "l_mse = evaluation_mse.evaluate(lsr_pred)\n",
        "R_mse = evaluation_mse.evaluate(rid_pred)\n",
        "\n",
        "# Evalute the rmse\n",
        "evaluation_rmse = RegressionEvaluator(labelCol = \"total_runs\",\n",
        "                                     predictionCol = \"prediction\",metricName = \"rmse\")\n",
        "# compute rmse\n",
        "xgb_rmse = evaluation_rmse.evaluate(xgb_pred)\n",
        "l_rmse = evaluation_rmse.evaluate(lsr_pred)\n",
        "R_rmse = evaluation_rmse.evaluate(rid_pred)\n",
        "\n",
        "# Evalute the R^2\n",
        "evaluation_r2 = RegressionEvaluator(labelCol = 'total_runs',\n",
        "                                   predictionCol = 'prediction', metricName = 'r2')\n",
        "# compute R^2\n",
        "xgb_r2_score = evaluation_r2.evaluate(xgb_pred)\n",
        "l_r2_score = evaluation_r2.evaluate(lsr_pred)\n",
        "R_r2_score = evaluation_mse.evaluate(rid_pred)\n"
      ]
    },
    {
      "cell_type": "code",
      "source": [
        "print(\"XGBoost Regressor Metrics\")\n",
        "print(\"xg :mse\",xgb_mse)\n",
        "print(\"xg :rmse\",xgb_rmse)\n",
        "print(\"xg :r^2\",xgb_r2_score)"
      ],
      "metadata": {
        "colab": {
          "base_uri": "https://localhost:8080/"
        },
        "id": "FqBea8-BZEOV",
        "outputId": "770fd016-c2ee-4fb1-b1b0-c92ef16d9d54"
      },
      "execution_count": 26,
      "outputs": [
        {
          "output_type": "stream",
          "name": "stdout",
          "text": [
            "XGBoost Regressor Metrics\n",
            "xg :mse 6.678887794880812e-10\n",
            "xg :rmse 2.5843544251671078e-05\n",
            "xg :r^2 0.9999999997409574\n"
          ]
        }
      ]
    },
    {
      "cell_type": "code",
      "source": [
        "#Lasso Metrics\n",
        "print(\"Lasso Regression Metrics\")\n",
        "print(\"lr :mse\",l_mse)\n",
        "print(\"lr :rmse\",l_rmse)\n",
        "print(\"lr :r^2\",l_r2_score)"
      ],
      "metadata": {
        "colab": {
          "base_uri": "https://localhost:8080/"
        },
        "id": "3xOfqhH24Jw3",
        "outputId": "b61fa001-8cfd-4ea3-879c-09a3430ade3a"
      },
      "execution_count": 27,
      "outputs": [
        {
          "output_type": "stream",
          "name": "stdout",
          "text": [
            "Lasso Regression Metrics\n",
            "lr :mse 0.06704338018755755\n",
            "lr :rmse 0.25892736469434346\n",
            "lr :r^2 0.9739970317218983\n"
          ]
        }
      ]
    },
    {
      "cell_type": "code",
      "source": [
        "print(\"Ridge Regression Metrics\")\n",
        "print(\"rr :mse\",R_mse)\n",
        "print(\"rr :rmse\",R_rmse)\n",
        "print(\"rr :r^2\",R_r2_score)"
      ],
      "metadata": {
        "colab": {
          "base_uri": "https://localhost:8080/"
        },
        "id": "9Cz6EHeV4EDT",
        "outputId": "6e867dcd-5511-4035-9092-207c3d388010"
      },
      "execution_count": 28,
      "outputs": [
        {
          "output_type": "stream",
          "name": "stdout",
          "text": [
            "Ridge Regression Metrics\n",
            "rr :mse 0.020897669330054013\n",
            "rr :rmse 0.144560261932711\n",
            "rr :r^2 0.020897669330054013\n"
          ]
        }
      ]
    },
    {
      "cell_type": "markdown",
      "metadata": {
        "id": "dsERZv2WIB1H"
      },
      "source": [
        "---\n",
        "# **Task 5 - Results Visualization or Printing (5 marks)**\n",
        "---"
      ]
    },
    {
      "cell_type": "code",
      "execution_count": 29,
      "metadata": {
        "colab": {
          "base_uri": "https://localhost:8080/",
          "height": 472
        },
        "id": "j04CcL30ILx_",
        "outputId": "2d7f63a0-062a-46fb-edbc-c21164cfb4d5"
      },
      "outputs": [
        {
          "output_type": "display_data",
          "data": {
            "text/plain": [
              "<Figure size 640x480 with 1 Axes>"
            ],
            "image/png": "[encoded data removed]"
          },
          "metadata": {}
        }
      ],
      "source": [
        "##Student 1 : Bhargav Mouli G\n",
        "# Importing the packages to Showcase\n",
        "import matplotlib.pyplot as plt\n",
        "import numpy as np\n",
        "\n",
        "mse = [6.67,0.067,0.02]\n",
        "rmse = [2.58, 0.258, 0.144]\n",
        "r2_score = [0.99, 0.97, 0.020]\n",
        "\n",
        "pos = np.arange(len(mse))\n",
        "bars_width = 0.3\n",
        "\n",
        "# Customizing the Bar\n",
        "b1 = plt.bar(pos - bars_width, mse, width = bars_width, label = 'MSE',color=\"lightgreen\")\n",
        "b2 = plt.bar(pos, rmse, width = bars_width, label = 'RMSE',color=\"skyblue\")\n",
        "b3 = plt.bar(pos + bars_width, r2_score, width = bars_width, label = 'R2_Score',color=\"yellow\")\n",
        "\n",
        "for bar_group in [b1, b2, b3]:\n",
        "    for block in bar_group:\n",
        "        height = block.get_height()\n",
        "        plt.text(block.get_x() + block.get_width()/3.0, height + 0.02, str(height),\n",
        "                 ha='center', va='bottom', fontsize=9)\n",
        "\n",
        "# Specifying title, labels\n",
        "plt.xlabel('Model')\n",
        "plt.ylabel('Predictions')\n",
        "plt.title('Analysis of Regression Metrics')\n",
        "\n",
        "# Background grid\n",
        "plt.grid(True, color='Black', linestyle='--', alpha=0.3)\n",
        "\n",
        "# Attaching the legend\n",
        "plt.legend()\n",
        "plt.xticks(pos, ['XGB_Regressor', 'Lasso','Ridge'])\n",
        "plt.show()"
      ]
    },
    {
      "cell_type": "code",
      "execution_count": null,
      "metadata": {
        "id": "ZrQu11N_DCfZ"
      },
      "outputs": [],
      "source": [
        "# install nbconvert (if facing the conversion error)\n",
        "!pip3 install nbconvert"
      ]
    },
    {
      "cell_type": "code",
      "execution_count": null,
      "metadata": {
        "id": "ReZWnCYdDH66",
        "colab": {
          "base_uri": "https://localhost:8080/"
        },
        "outputId": "21fb4a19-53bf-48f6-be41-b468b5355fb0"
      },
      "outputs": [
        {
          "output_type": "stream",
          "name": "stdout",
          "text": [
            "[NbConvertApp] Converting notebook Group_21_CRWK_CN7030.ipynb to html\n",
            "[NbConvertApp] WARNING | Alternative text is missing on 3 image(s).\n",
            "[NbConvertApp] Writing 578411 bytes to Group_21_CRWK_CN7030.html\n"
          ]
        }
      ],
      "source": [
        "# convert ipynb to html and submit this HTML file\n",
        "!jupyter nbconvert --to html Group_21_CRWK_CN7030.ipynb"
      ]
    }
  ],
  "metadata": {
    "colab": {
      "provenance": []
    },
    "kernelspec": {
      "display_name": "Python 3",
      "name": "python3"
    }
  },
  "nbformat": 4,
  "nbformat_minor": 0
}